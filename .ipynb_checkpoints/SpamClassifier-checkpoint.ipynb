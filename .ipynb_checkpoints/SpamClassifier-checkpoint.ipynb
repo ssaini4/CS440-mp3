{
 "cells": [
  {
   "cell_type": "code",
   "execution_count": 3,
   "metadata": {
    "collapsed": true
   },
   "outputs": [],
   "source": [
    "import pandas as pd\n",
    "import numpy as np"
   ]
  },
  {
   "cell_type": "code",
   "execution_count": 44,
   "metadata": {
    "collapsed": false
   },
   "outputs": [
    {
     "name": "stdout",
     "output_type": "stream",
     "text": [
      "0.5\n",
      "0.5\n"
     ]
    }
   ],
   "source": [
    "def parseMultinomialBayes(txtfile):\n",
    "    with open(txtfile) as f:\n",
    "        f_read = f.read()\n",
    "    instanceList = f_read.split(\"\\r\\n\")\n",
    "    del instanceList[-1]\n",
    "\n",
    "    classStats = [{}, {}]\n",
    "    wordCount = [0, 0]\n",
    "    numInstances = len(instanceList)\n",
    "    numClass1 = 0\n",
    "    #data = []\n",
    "\n",
    "    for instance in instanceList:\n",
    "        #instanceDict = {}\n",
    "        features = instance.split(\" \")\n",
    "        #instanceDict['CLASS'] = int(features[0])\n",
    "        spam = int(features[0])\n",
    "        numClass1 += spam\n",
    "        del features[0]\n",
    "        for feature in features:\n",
    "            pair = feature.split(\":\")\n",
    "            if not pair[0] in classStats[0]:\n",
    "                classStats[0][pair[0]] = 0\n",
    "\n",
    "            if not pair[0] in classStats[1]:\n",
    "                classStats[1][pair[0]] = 0\n",
    "\n",
    "            classStats[spam][pair[0]] += int(pair[1])\n",
    "            wordCount[spam] += 1\n",
    "\n",
    "            instanceDict[pair[0]] = int(pair[1])\n",
    "        #data.append(instanceDict)\n",
    "        \n",
    "    proportionClass1 = float(numClass1)/numInstances\n",
    "    \n",
    "    return classStats, wordCount, proportionClass1\n",
    "\n",
    "def findLikelihood(stats, wordCount, laplaceSmoothFactor):\n",
    "    likelihood = [{}, {}]\n",
    "    for i in range(2):\n",
    "        numUnique = 0\n",
    "        #Smooth the parameters using Laplacian smoothing\n",
    "        for word in stats[i]:\n",
    "            if stats[i][word] <= laplaceSmoothFactor:\n",
    "                numUnique += 1\n",
    "                likelihood[i][word] = 0 \n",
    "                \n",
    "            else:\n",
    "                likelihood[i][word] = np.log(float(stats[i][word])/wordCount[i])\n",
    "            \n",
    "        for word in stats[i]:\n",
    "            if likelihood[i][word] == 0:\n",
    "                likelihood[i][word] = np.log(float(stats[i][word]+1)/(wordCount[i]+numUnique))\n",
    "                \n",
    "        return likelihood\n",
    "\n",
    "classStats, wordCount, proportionClass1 = parseMultinomialBayes(\"spam_detection/train_email.txt\")\n",
    "likelihood = findLikelihood(classStats, wordCount, 0)"
   ]
  },
  {
   "cell_type": "code",
   "execution_count": 45,
   "metadata": {
    "collapsed": true
   },
   "outputs": [],
   "source": [
    "class baysianSpamClassifier():\n",
    "    def __init__(self, likelihood, proportionClass1):\n",
    "        self.likelihood = likelihood\n",
    "        self.proportionClass1 = proportionClass1\n",
    "        self.proporitonClass0 = 1 - proportionClass1\n",
    "    \n",
    "    def test(self, txtfile):\n",
    "        with open(txtfile) as f:\n",
    "            f_read = f.read()\n",
    "        instanceList = f_read.split(\"\\r\\n\")\n",
    "        del instanceList[-1]\n",
    "        \n",
    "        accuracy = 0\n",
    "\n",
    "        for instance in instanceList:\n",
    "            score = [0,0]\n",
    "            classification = 0\n",
    "            #instanceDict = {}\n",
    "            features = instance.split(\" \")\n",
    "            #instanceDict['CLASS'] = int(features[0])\n",
    "            spam = int(features[0]) \n",
    "            del features[0]\n",
    "            for feature in features:\n",
    "                pair = feature.split(\":\")\n",
    "                score[0] += self.likelihood[0][pair[0]]\n",
    "                score[1] += self.likelihood[1][pair[0]]\n",
    "                \n",
    "            if score[0] > score[1]:\n",
    "                classification = 0\n",
    "            else:\n",
    "                classification = 1\n",
    "            \n",
    "            if classification == spam:\n",
    "                accuracy += 1\n",
    "            else:\n",
    "                accuracy += 0\n",
    "        \n",
    "        accuracy"
   ]
  },
  {
   "cell_type": "code",
   "execution_count": null,
   "metadata": {
    "collapsed": true
   },
   "outputs": [],
   "source": []
  }
 ],
 "metadata": {
  "kernelspec": {
   "display_name": "Python 2",
   "language": "python",
   "name": "python2"
  },
  "language_info": {
   "codemirror_mode": {
    "name": "ipython",
    "version": 2
   },
   "file_extension": ".py",
   "mimetype": "text/x-python",
   "name": "python",
   "nbconvert_exporter": "python",
   "pygments_lexer": "ipython2",
   "version": "2.7.6"
  }
 },
 "nbformat": 4,
 "nbformat_minor": 0
}
