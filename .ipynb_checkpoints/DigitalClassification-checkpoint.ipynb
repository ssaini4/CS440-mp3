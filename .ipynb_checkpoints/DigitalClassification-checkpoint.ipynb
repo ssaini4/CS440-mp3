{
 "cells": [
  {
   "cell_type": "code",
   "execution_count": 17,
   "metadata": {
    "collapsed": false
   },
   "outputs": [],
   "source": [
    "%matplotlib inline\n",
    "from images import *\n",
    "from NumberClass import *\n",
    "from math import *\n",
    "from operator import itemgetter, attrgetter\n",
    "import numpy as np\n",
    "import matplotlib.pyplot as plt\n",
    "from numpy import ma\n",
    "from matplotlib import colors, ticker, cm\n",
    "from matplotlib.mlab import bivariate_normal"
   ]
  },
  {
   "cell_type": "code",
   "execution_count": 18,
   "metadata": {
    "collapsed": false
   },
   "outputs": [
    {
     "name": "stdout",
     "output_type": "stream",
     "text": [
      "Counts 539\n",
      "-1501.25521251\n",
      "Counts 623\n",
      "-1966.69011175\n",
      "Counts 548\n",
      "-1536.23771543\n",
      "Counts 553\n",
      "-1574.52229732\n",
      "Counts 595\n",
      "-1665.69270806\n",
      "Counts 494\n",
      "-1537.09815599\n",
      "Counts 561\n",
      "-1644.06326648\n",
      "Counts 610\n",
      "-1722.58368821\n",
      "Counts 522\n",
      "-1550.65985375\n",
      "Counts 555\n",
      "-1670.30928222\n",
      "-2 -2 -2 -2 -2 -2 -2 -2 -2 -2 -2 -2 -2 -2 -2 -2 -2 -2 -2 -2 -2 -2 -2 -2 -2 -2 -2 -2  \n",
      "-2 -2 -2 -2 -2 -2 -2 -2 -2 -2 -2 -2 -2 -2 -2 -2 -2 -2 -2 -2 -2 -2 -2 -2 -2 -2 -2 -2  \n",
      "-2 -2 -2 -2 -2 -2 -2 -2 -2 -2 -2 -2 -2 -2 -2 -2 -2 -2 -2 -2 -2 -2 -2 -2 -2 -2 -2 -2  \n",
      "-2 -2 -2 -2 -2 -2 -2 -2 -2 -2 -1 -1 -1 -1 -1 -1 -1 -1 -1 -2 -2 -2 -2 -2 -2 -2 -2 -2  \n",
      "-2 -2 -2 -2 -2 -2 -2 -2 -1 -1 -1  0  0  0  0  0  0  0 -1 -1 -1 -2 -2 -2 -2 -2 -2 -2  \n",
      "-2 -2 -2 -2 -2 -2 -2 -1 -1 -1  0  0  0  0  0  0  0  0  0  0 -1 -1 -2 -2 -2 -2 -2 -2  \n",
      "-2 -2 -2 -2 -2 -2 -1 -1 -1  0  0  0  0  0  0  0  0  0  0  0  0 -1 -1 -2 -2 -2 -2 -2  \n",
      "-2 -2 -2 -2 -2 -2 -1 -1 -1  0  0  0  0  0  0  0  0  0  0  0  0 -1 -1 -2 -2 -2 -2 -2  \n",
      "-2 -2 -2 -2 -2 -2 -1 -1 -1  0  0  0  0  0  0  0  0  0  0  0  0 -1 -1 -2 -2 -2 -2 -2  \n",
      "-2 -2 -2 -2 -2 -2 -1 -1 -1 -1 -1 -1 -1 -1 -1  0  0  0  0  0  0 -1 -1 -2 -2 -2 -2 -2  \n",
      "-2 -2 -2 -2 -2 -2 -2 -1 -1 -1 -1 -1 -1 -1 -1 -1  0  0  0  0  0 -1 -1 -2 -2 -2 -2 -2  \n",
      "-2 -2 -2 -2 -2 -2 -2 -2 -2 -2 -1 -1 -1 -1 -1  0  0  0  0  0  0 -1 -1 -2 -2 -2 -2 -2  \n",
      "-2 -2 -2 -2 -2 -2 -2 -2 -2 -2 -2 -2 -1 -1 -1  0  0  0  0  0  0 -1 -1 -2 -2 -2 -2 -2  \n",
      "-2 -2 -2 -2 -2 -2 -2 -2 -2 -1 -1 -1 -1 -1  0  0  0  0  0  0 -1 -1 -2 -2 -2 -2 -2 -2  \n",
      "-2 -2 -2 -2 -2 -2 -2 -1 -1 -1 -1  0  0  0  0  0  0  0  0  0 -1 -1 -2 -2 -2 -2 -2 -2  \n",
      "-2 -2 -2 -2 -2 -2 -1 -1  0  0  0  0  0  0  0  0  0  0  0  0 -1 -1 -1 -2 -2 -2 -2 -2  \n",
      "-2 -2 -2 -2 -2 -1 -1  0  0  0  0  0  0  0  0  0  0  0  0  0 -1 -1 -1 -1 -1 -2 -2 -2  \n",
      "-2 -2 -2 -2 -1 -1  0  0  0  0  0  0  0  0  0  0  0  0  0  0  0  0 -1 -1 -1 -2 -2 -2  \n",
      "-2 -2 -2 -2 -1 -1  0  0  0  0  0  0  0  0  0  0  0  0  0  0  0  0  0 -1 -1 -2 -2 -2  \n",
      "-2 -2 -2 -2 -1  0  0  0  0  0  0  0  0  0  0  0  0  0  0  0  0  0 -1 -1 -1 -2 -2 -2  \n",
      "-2 -2 -2 -2 -1  0  0  0  0  0  0  0  0  0  0  0  0  0  0  0  0  0 -1 -1 -1 -2 -2 -2  \n",
      "-2 -2 -2 -2 -1 -1  0  0  0  0  0  0  0  0  0  0  0  0  0  0  0 -1 -1 -1 -2 -2 -2 -2  \n",
      "-2 -2 -2 -2 -2 -1 -1  0  0  0  0  0  0  0 -1 -1 -1 -1 -1 -1 -1 -1 -1 -2 -2 -2 -2 -2  \n",
      "-2 -2 -2 -2 -2 -2 -1 -1 -1 -1 -1 -1 -1 -1 -1 -1 -1 -1 -1 -2 -2 -2 -2 -2 -2 -2 -2 -2  \n",
      "-2 -2 -2 -2 -2 -2 -2 -2 -2 -2 -2 -2 -2 -2 -2 -2 -2 -2 -2 -2 -2 -2 -2 -2 -2 -2 -2 -2  \n",
      "-2 -2 -2 -2 -2 -2 -2 -2 -2 -2 -2 -2 -2 -2 -2 -2 -2 -2 -2 -2 -2 -2 -2 -2 -2 -2 -2 -2  \n",
      "-2 -2 -2 -2 -2 -2 -2 -2 -2 -2 -2 -2 -2 -2 -2 -2 -2 -2 -2 -2 -2 -2 -2 -2 -2 -2 -2 -2  \n",
      "-2 -2 -2 -2 -2 -2 -2 -2 -2 -2 -2 -2 -2 -2 -2 -2 -2 -2 -2 -2 -2 -2 -2 -2 -2 -2 -2 -2  \n"
     ]
    }
   ],
   "source": [
    "''' Part 1: Training\n",
    "\n",
    "'''\n",
    "k = 30\n",
    "images = imageArray('trainingimages','traininglabels')\n",
    "#print len(images)\n",
    "numberClass = []\n",
    "labelArray = []\n",
    "for i in range(10) :\n",
    "    numberClass.append(NumberClass()) \n",
    "    labelArray.append(0)\n",
    "\n",
    "'''Adding features to the number class'''\n",
    "for i in range(5000):\n",
    "    numberValue = int(images.getLabels(i))\n",
    "    imageData = []\n",
    "    imageData = images.getImage(i)\n",
    "    numberClass[numberValue].addToCount(1)\n",
    "    for row in range(28):\n",
    "        for column in range(28):  \n",
    "            if imageData[row][column] == ' ': #adding 1/0 to the feature variable\n",
    "                numberClass[numberValue].addToFeature(0,row, column)     \n",
    "            if imageData[row][column] == '#' or imageData[row][column] == '+':\n",
    "                numberClass[numberValue].addToFeature(1,row, column)\n",
    "                \n",
    "# Laplace Smoothing\n",
    "\n",
    "for i in range(10):\n",
    "    numberClass[i].addToCount(k*2) #smoothing the count by adding k*Number of values feature can take (0/1)\n",
    "    for row in range(28):\n",
    "        for column in range(28):  \n",
    "            numberClass[i].addToFeature(k,row, column) #adding k to each pixel feature to get rid of 0s\n",
    "    print numberClass[i].getMAP(5000)#getting the MAP by using P(class) = count of images of a class(0-9)/5000 \n",
    "\n",
    "    \n",
    "for j in range(28):\n",
    "    for i in range(28):\n",
    "        number = int(numberClass[2].likelihoods1[j*28+i])\n",
    "        if number >= 0:\n",
    "            print '', number,\n",
    "        else:\n",
    "            print number,\n",
    "    print ' '"
   ]
  },
  {
   "cell_type": "code",
   "execution_count": 19,
   "metadata": {
    "collapsed": false
   },
   "outputs": [
    {
     "name": "stdout",
     "output_type": "stream",
     "text": [
      "0.759\n",
      "[  90.  108.  103.  100.  107.   92.   91.  106.  103.  100.]\n",
      "[[ 0.96666667  0.          0.05825243  0.03        0.01869159  0.11956522\n",
      "   0.07692308  0.01886792  0.02912621  0.03      ]\n",
      " [ 0.          0.9537037   0.00970874  0.          0.          0.\n",
      "   0.02197802  0.04716981  0.          0.        ]\n",
      " [ 0.          0.          0.77669903  0.04        0.01869159  0.01086957\n",
      "   0.08791209  0.03773585  0.02912621  0.02      ]\n",
      " [ 0.          0.          0.          0.71        0.          0.08695652\n",
      "   0.          0.          0.04854369  0.        ]\n",
      " [ 0.          0.          0.01941748  0.          0.64485981  0.02173913\n",
      "   0.          0.05660377  0.00970874  0.05      ]\n",
      " [ 0.          0.00925926  0.          0.07        0.          0.59782609\n",
      "   0.02197802  0.          0.02912621  0.01      ]\n",
      " [ 0.01111111  0.00925926  0.04854369  0.04        0.04672897  0.02173913\n",
      "   0.72527473  0.00943396  0.          0.        ]\n",
      " [ 0.          0.          0.          0.02        0.          0.          0.\n",
      "   0.55660377  0.00970874  0.        ]\n",
      " [ 0.02222222  0.02777778  0.06796117  0.04        0.02803738  0.07608696\n",
      "   0.06593407  0.05660377  0.80582524  0.03      ]\n",
      " [ 0.          0.          0.01941748  0.05        0.24299065  0.06521739\n",
      "   0.          0.21698113  0.03883495  0.86      ]]\n"
     ]
    }
   ],
   "source": [
    "'''Testing Part'''\n",
    "\n",
    "testImages = imageArray('testimages','testlabels')\n",
    "tempNumberClass = NumberClass()\n",
    "accuracy = 0\n",
    "confusionMatrix = np.array([[0 for j in range(10)] for i in range(10)], dtype = float)\n",
    "scores = [0 for i in range(10)]\n",
    "\n",
    "k2 = 1\n",
    "for i in range(1000):#going through all 1000 images\n",
    "    numberValue = int(testImages.getLabels(i))\n",
    "    tempNumberClass = NumberClass()\n",
    "    tempNumberClass.addToCount(1)#going through each image indivually, therefore count = 1\n",
    "    imageData = []\n",
    "    imageData = testImages.getImage(i)\n",
    "    for row in range(28):\n",
    "        for column in range(28):  \n",
    "            if imageData[row][column] == ' ':#adding 0/1 to features according to the pixel value\n",
    "                tempNumberClass.addToFeature(0,row, column)     \n",
    "            if imageData[row][column] == '#' or imageData[row][column] == '+':\n",
    "                tempNumberClass.addToFeature(1,row, column)\n",
    "                \n",
    "    #print \"Number Value\", numberValue\n",
    "    for i in range(10):\n",
    "        scores[i] = numberClass[i].getTestScore(tempNumberClass.Feature)\n",
    "        #print \"Number Class Score\", i, scores[i]\n",
    "    classification = scores.index(max(scores))\n",
    "    #print \"Classification: \", classification\n",
    "    \n",
    "    if classification == numberValue:\n",
    "        accuracy += 1\n",
    "        \n",
    "    confusionMatrix[classification, numberValue] += 1.0\n",
    "accuracy = float(accuracy)/1000\n",
    "print accuracy\n",
    "\n",
    "columnSums = np.sum(confusionMatrix, axis =0)\n",
    "print columnSums\n",
    "for i in range(10):\n",
    "    confusionMatrix[:, i] = confusionMatrix[:, i]/columnSums[i]\n",
    "print confusionMatrix"
   ]
  },
  {
   "cell_type": "code",
   "execution_count": 20,
   "metadata": {
    "collapsed": false,
    "scrolled": true
   },
   "outputs": [
    {
     "data": {
      "image/png": "[encoded data removed]",
      "text/plain": [
       "<matplotlib.figure.Figure at 0x10607bed0>"
      ]
     },
     "metadata": {},
     "output_type": "display_data"
    },
    {
     "data": {
      "image/png": "[encoded data removed]",
      "text/plain": [
       "<matplotlib.figure.Figure at 0x10561df10>"
      ]
     },
     "metadata": {},
     "output_type": "display_data"
    },
    {
     "data": {
      "image/png": "[encoded data removed]",
      "text/plain": [
       "<matplotlib.figure.Figure at 0x10648e810>"
      ]
     },
     "metadata": {},
     "output_type": "display_data"
    }
   ],
   "source": [
    "N = 28\n",
    "num1 = 3\n",
    "num2 = 5\n",
    "x = np.linspace(0, 27, N)\n",
    "y = np.linspace(0, 27, N)\n",
    "\n",
    "X, Y = np.meshgrid(x, y)\n",
    "\n",
    "likelihood1_num1 = np.array(numberClass[num1].likelihoods1)[::-1]\n",
    "likelihood1_num2 = np.array(numberClass[num2].likelihoods1)[::-1]\n",
    "likelihood1_num1.shape = (28, 28)\n",
    "likelihood1_num2.shape = (28, 28)\n",
    "for i in range(28):\n",
    "    likelihood1_num1[i] = likelihood1_num1[i][::-1]\n",
    "    likelihood1_num2[i] = likelihood1_num2[i][::-1]\n",
    "    \n",
    "plt.figure()\n",
    "plt.contourf(X, Y, likelihood1_num1, cmap=cm.PuBu_r)\n",
    "cbar = plt.colorbar()\n",
    "\n",
    "plt.figure()\n",
    "plt.contourf(X, Y, likelihood1_num2, cmap=cm.PuBu_r)\n",
    "cbar = plt.colorbar()\n",
    "\n",
    "plt.figure()\n",
    "plt.contourf(X, Y, likelihood1_num1-likelihood1_num2, cmap=cm.PuBu_r)\n",
    "cbar = plt.colorbar()"
   ]
  },
  {
   "cell_type": "code",
   "execution_count": null,
   "metadata": {
    "collapsed": true
   },
   "outputs": [],
   "source": []
  }
 ],
 "metadata": {
  "kernelspec": {
   "display_name": "Python 2",
   "language": "python",
   "name": "python2"
  },
  "language_info": {
   "codemirror_mode": {
    "name": "ipython",
    "version": 2
   },
   "file_extension": ".py",
   "mimetype": "text/x-python",
   "name": "python",
   "nbconvert_exporter": "python",
   "pygments_lexer": "ipython2",
   "version": "2.7.10"
  }
 },
 "nbformat": 4,
 "nbformat_minor": 0
}
