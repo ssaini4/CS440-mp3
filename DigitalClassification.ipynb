{
 "cells": [
  {
   "cell_type": "code",
   "execution_count": 1,
   "metadata": {
    "collapsed": false
   },
   "outputs": [],
   "source": [
    "from images import *\n",
    "from NumberClass import *\n",
    "from operator import itemgetter, attrgetter"
   ]
  },
  {
   "cell_type": "code",
   "execution_count": 2,
   "metadata": {
    "collapsed": false
   },
   "outputs": [
    {
     "name": "stdout",
     "output_type": "stream",
     "text": [
      "5000\n"
     ]
    }
   ],
   "source": [
    "''' Part 1: Training\n",
    "\n",
    "'''\n",
    "images = imageArray()\n",
    "#print len(images)\n",
    "labelData = images.getLabels(0)\n",
    "numberClass = []\n",
    "for i in range(10) :\n",
    "    numberClass.append(NumberClass()) \n",
    "    \n",
    "for i in range(5000):\n",
    "    numberValue = int(images.getLabels(i))\n",
    "    imageData = []\n",
    "    imageData = images.getImage(i)\n",
    "    numberClass[numberValue].addToCount(1)\n",
    "    \n",
    "    for row in range(28):\n",
    "        for column in range(28):  \n",
    "            if imageData[row][column] == ' ':\n",
    "                numberClass[numberValue].addToProbBlank(1,row, column)     \n",
    "            if imageData[row][column] == '#':\n",
    "                numberClass[numberValue].addToProbHash(1,row, column)\n",
    "            if imageData[row][column] == '+':\n",
    "                numberClass[numberValue].addToProbPlus(1,row, column)\n",
    "    \n",
    "\n",
    "\n"
   ]
  },
  {
   "cell_type": "code",
   "execution_count": null,
   "metadata": {
    "collapsed": true
   },
   "outputs": [],
   "source": [
    "'''Testing Part'''"
   ]
  }
 ],
 "metadata": {
  "kernelspec": {
   "display_name": "Python 2",
   "language": "python",
   "name": "python2"
  },
  "language_info": {
   "codemirror_mode": {
    "name": "ipython",
    "version": 2
   },
   "file_extension": ".py",
   "mimetype": "text/x-python",
   "name": "python",
   "nbconvert_exporter": "python",
   "pygments_lexer": "ipython2",
   "version": "2.7.10"
  }
 },
 "nbformat": 4,
 "nbformat_minor": 0
}
