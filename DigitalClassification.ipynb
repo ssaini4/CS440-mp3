{
 "cells": [
  {
   "cell_type": "code",
   "execution_count": 4,
   "metadata": {
    "collapsed": false
   },
   "outputs": [],
   "source": [
    "from images import *\n",
    "from NumberClass import *\n",
    "from math import *\n",
    "from operator import itemgetter, attrgetter"
   ]
  },
  {
   "cell_type": "code",
   "execution_count": 28,
   "metadata": {
    "collapsed": false
   },
   "outputs": [
    {
     "name": "stdout",
     "output_type": "stream",
     "text": [
      "Counts 481\n",
      "-1187.96840551\n",
      "Counts 565\n",
      "-1578.61989565\n",
      "Counts 490\n",
      "-1152.10257296\n",
      "Counts 495\n",
      "-1200.05291563\n",
      "Counts 537\n",
      "-1246.99397984\n",
      "Counts 436\n",
      "-1181.53231477\n",
      "Counts 503\n",
      "-1281.39662448\n",
      "Counts 552\n",
      "-1294.50087535\n",
      "Counts 464\n",
      "-1215.54137498\n",
      "Counts 497\n",
      "-1299.26811717\n",
      "-2 -2 -2 -2 -2 -2 -2 -2 -2 -2 -2 -2 -2 -2 -2 -2 -2 -2 -2 -2 -2 -2 -2 -2 -2 -2 -2 -2  \n",
      "-2 -2 -2 -2 -2 -2 -2 -2 -2 -2 -2 -2 -2 -2 -2 -2 -2 -2 -2 -2 -2 -2 -2 -2 -2 -2 -2 -2  \n",
      "-2 -2 -2 -2 -2 -2 -2 -2 -2 -2 -2 -1 -1 -1 -1 -1 -1 -1 -1 -2 -2 -2 -2 -2 -2 -2 -2 -2  \n",
      "-2 -2 -2 -2 -2 -2 -1 -1 -1 -1  0  0  0  0  0  0  0  0  0 -1 -1 -1 -2 -2 -2 -2 -2 -2  \n",
      "-2 -2 -2 -2 -2 -1 -1 -1  0  0  0  0  0  0  0  0  0  0  0  0  0 -1 -1 -2 -2 -2 -2 -2  \n",
      "-2 -2 -2 -2 -2 -1 -1  0  0  0  0  0  0  0  0  0  0  0  0  0  0  0 -1 -1 -2 -2 -2 -2  \n",
      "-2 -2 -2 -2 -1 -1 -1  0  0  0  0  0  0  0  0  0  0  0  0  0  0  0  0 -1 -2 -2 -2 -2  \n",
      "-2 -2 -2 -2 -1 -1  0  0  0  0  0  0  0  0  0  0  0  0  0  0  0  0  0 -1 -2 -2 -2 -2  \n",
      "-2 -2 -2 -2 -1 -1  0  0  0  0  0  0  0  0  0  0  0  0  0  0  0  0  0 -1 -2 -2 -2 -2  \n",
      "-2 -2 -2 -2 -1 -1  0  0  0  0  0  0  0  0  0  0  0  0  0  0  0  0  0 -1 -2 -2 -2 -2  \n",
      "-2 -2 -2 -2 -1 -1 -1 -1  0  0  0  0  0  0  0  0  0  0  0  0  0  0  0 -1 -2 -2 -2 -2  \n",
      "-2 -2 -2 -2 -1 -1 -1 -1 -1 -1 -1 -1  0  0  0  0  0  0  0  0  0  0  0 -1 -1 -2 -2 -2  \n",
      "-2 -2 -2 -2 -2 -1 -1 -1 -1 -1 -1 -1  0  0  0  0  0  0  0  0  0  0  0 -1 -1 -1 -2 -2  \n",
      "-2 -2 -2 -2 -2 -1 -1 -1 -1  0  0  0  0  0  0  0  0  0  0  0  0  0 -1 -1 -1 -1 -2 -2  \n",
      "-2 -2 -2 -2 -1 -1 -1  0  0  0  0  0  0  0  0  0  0  0  0  0  0  0 -1 -1 -1 -2 -2 -2  \n",
      "-2 -2 -2 -2 -1 -1  0  0  0  0  0  0  0  0  0  0  0  0  0  0  0  0  0 -1 -1 -1 -2 -2  \n",
      "-2 -2 -2 -1 -1  0  0  0  0  0  0  0  0  0  0  0  0  0  0  0  0  0  0  0 -1 -1 -1 -2  \n",
      "-2 -2 -2 -1  0  0  0  0  0  0  0  0  0  0  0  0  0  0  0  0  0  0  0  0  0 -1 -1 -2  \n",
      "-2 -2 -2 -1  0  0  0  0  0  0  0  0  0  0  0  0  0  0  0  0  0  0  0  0  0 -1 -1 -2  \n",
      "-2 -2 -2 -1  0  0  0  0  0  0  0  0  0  0  0  0  0  0  0  0  0  0  0  0  0 -1 -2 -2  \n",
      "-2 -2 -2 -1  0  0  0  0  0  0  0  0  0  0  0  0  0  0  0  0  0  0  0  0  0 -1 -2 -2  \n",
      "-2 -2 -2 -1  0  0  0  0  0  0  0  0  0  0  0  0  0  0  0  0  0  0  0  0 -1 -1 -2 -2  \n",
      "-2 -2 -2 -1 -1  0  0  0  0  0  0  0  0  0  0  0  0  0  0  0  0  0  0 -1 -1 -1 -2 -2  \n",
      "-2 -2 -2 -2 -1 -1  0  0  0  0  0  0  0  0  0  0  0  0  0 -1 -1 -1 -1 -1 -1 -2 -2 -2  \n",
      "-2 -2 -2 -2 -2 -1 -1 -1 -1 -1 -1 -1 -1 -1 -1 -1 -1 -1 -1 -1 -1 -1 -1 -2 -2 -2 -2 -2  \n",
      "-2 -2 -2 -2 -2 -2 -2 -2 -2 -2 -2 -2 -2 -2 -2 -2 -2 -2 -2 -2 -2 -2 -2 -2 -2 -2 -2 -2  \n",
      "-2 -2 -2 -2 -2 -2 -2 -2 -2 -2 -2 -2 -2 -2 -2 -2 -2 -2 -2 -2 -2 -2 -2 -2 -2 -2 -2 -2  \n",
      "-2 -2 -2 -2 -2 -2 -2 -2 -2 -2 -2 -2 -2 -2 -2 -2 -2 -2 -2 -2 -2 -2 -2 -2 -2 -2 -2 -2  \n"
     ]
    }
   ],
   "source": [
    "''' Part 1: Training\n",
    "\n",
    "'''\n",
    "images = imageArray('trainingimages','traininglabels')\n",
    "#print len(images)\n",
    "numberClass = []\n",
    "labelArray = []\n",
    "for i in range(10) :\n",
    "    numberClass.append(NumberClass()) \n",
    "    labelArray.append(0)\n",
    "\n",
    "'''Adding features to the number class'''\n",
    "for i in range(5000):\n",
    "    numberValue = int(images.getLabels(i))\n",
    "    imageData = []\n",
    "    imageData = images.getImage(i)\n",
    "    numberClass[numberValue].addToCount(1)\n",
    "    for row in range(28):\n",
    "        for column in range(28):  \n",
    "            if imageData[row][column] == ' ': #adding 1/0 to the feature variable\n",
    "                numberClass[numberValue].addToFeature(0,row, column)     \n",
    "            if imageData[row][column] == '#' or imageData[row][column] == '+':\n",
    "                numberClass[numberValue].addToFeature(1,row, column)\n",
    "                \n",
    "# Laplace Smoothing\n",
    "k = 1\n",
    "for i in range(10):\n",
    "    numberClass[i].addToCount(k*2) #smoothing the count by adding k*Number of values feature can take (0/1)\n",
    "    for row in range(28):\n",
    "        for column in range(28):  \n",
    "            numberClass[i].addToFeature(k,row, column) #adding k to each pixel feature to get rid of 0s\n",
    "    print numberClass[i].getMAP(5000)#getting the MAP by using P(class) = count of images of a class(0-9)/5000 \n",
    "\n",
    "    \n",
    "for j in range(28):\n",
    "    for i in range(28):\n",
    "        number = int(numberClass[2].likelihoods1[j*28+i])\n",
    "        if number >= 0:\n",
    "            print '', number,\n",
    "        else:\n",
    "            print number,\n",
    "    print ' '"
   ]
  },
  {
   "cell_type": "code",
   "execution_count": 51,
   "metadata": {
    "collapsed": false
   },
   "outputs": [
    {
     "data": {
      "text/plain": [
       "\"\\ntestImages = imageArray('testimages','testlabels')\\nmaxMatch = 0\\nmaxMatchNumber = 0\\ntempNumberClass = NumberClass()\\n\\nk2 = 1\\nfor i in range(1000):#going through all 1000 images\\n    tempNumberClass = NumberClass()\\n    tempNumberClass.addToCount(1)#going through each image indivually, therefore count = 1\\n    imageData = []\\n    imageData = testImages.getImage(i)\\n    for row in range(28):\\n        for column in range(28):  \\n            if imageData[row][column] == ' ':#adding 0/1 to features according to the pixel value\\n                tempNumberClass.addToFeature(0,row, column)     \\n            if imageData[row][column] == '#':\\n                tempNumberClass.addToFeature(1,row, column)\\n            if imageData[row][column] == '+':\\n                tempNumberClass.addToFeature(1,row, column)\\n    #Laplace smoothing of the testimage\\n    tempNumberClass.addToCount(k2*2)\\n    for row in range(28):\\n        for column in range(28):  \\n            tempNumberClass.addToFeature(k2,row, column) \\n    \\n    tempMAP = tempNumberClass.getMAP(10)#getting MAP with P(class) = count/10\\n    for j in range(10):\\n        MAP = numberClass[j].getMAP(5000) #getting MAP of training image with P(class) = count/5000\\n        print ('probability for:'),testImages.getLabels(i),('when comparing to'),j,float(tempMAP*100)/MAP\\n\""
      ]
     },
     "execution_count": 51,
     "metadata": {},
     "output_type": "execute_result"
    }
   ],
   "source": []
  },
  {
   "cell_type": "code",
   "execution_count": 50,
   "metadata": {
    "collapsed": false
   },
   "outputs": [
    {
     "name": "stdout",
     "output_type": "stream",
     "text": [
      "0.692\n",
      "[[ 0.875       0.          0.01834862  0.          0.          0.03125\n",
      "   0.02597403  0.          0.01960784  0.00740741]\n",
      " [ 0.          0.83870968  0.02752294  0.06666667  0.          0.\n",
      "   0.07792208  0.09375     0.03921569  0.00740741]\n",
      " [ 0.01136364  0.00806452  0.75229358  0.13333333  0.01851852  0.00625\n",
      "   0.11688312  0.0625      0.05882353  0.00740741]\n",
      " [ 0.          0.          0.          0.9         0.          0.          0.\n",
      "   0.          0.05882353  0.        ]\n",
      " [ 0.          0.01612903  0.06422018  0.1         0.52469136  0.0375\n",
      "   0.07792208  0.3125      0.43137255  0.08148148]\n",
      " [ 0.09090909  0.          0.00917431  1.7         0.          0.45625\n",
      "   0.1038961   0.          0.31372549  0.02222222]\n",
      " [ 0.04545455  0.00806452  0.03669725  0.06666667  0.01851852  0.0125\n",
      "   0.77922078  0.          0.01960784  0.        ]\n",
      " [ 0.          0.          0.00917431  0.1         0.          0.00625     0.\n",
      "   0.90625     0.01960784  0.        ]\n",
      " [ 0.          0.          0.01834862  0.06666667  0.          0.          0.\n",
      "   0.03125     0.8627451   0.00740741]\n",
      " [ 0.          0.          0.00917431  0.2         0.09876543  0.025       0.\n",
      "   0.25        0.19607843  0.60740741]]\n"
     ]
    }
   ],
   "source": [
    "'''Testing Part'''\n",
    "\n",
    "testImages = imageArray('testimages','testlabels')\n",
    "tempNumberClass = NumberClass()\n",
    "accuracy = 0\n",
    "confusionMatrix = np.array([[0 for j in range(10)] for i in range(10)], dtype = float)\n",
    "scores = [0 for i in range(10)]\n",
    "\n",
    "k2 = 1\n",
    "for i in range(1000):#going through all 1000 images\n",
    "    numberValue = int(testImages.getLabels(i))\n",
    "    tempNumberClass = NumberClass()\n",
    "    tempNumberClass.addToCount(1)#going through each image indivually, therefore count = 1\n",
    "    imageData = []\n",
    "    imageData = testImages.getImage(i)\n",
    "    for row in range(28):\n",
    "        for column in range(28):  \n",
    "            if imageData[row][column] == ' ':#adding 0/1 to features according to the pixel value\n",
    "                tempNumberClass.addToFeature(0,row, column)     \n",
    "            if imageData[row][column] == '#' or imageData[row][column] == '+':\n",
    "                tempNumberClass.addToFeature(1,row, column)\n",
    "                \n",
    "    #print \"Number Value\", numberValue\n",
    "    for i in range(10):\n",
    "        scores[i] = numberClass[i].getTestScore(tempNumberClass.Feature)\n",
    "        #print \"Number Class Score\", i, scores[i]\n",
    "    classification = scores.index(max(scores))\n",
    "    #print \"Classification: \", classification\n",
    "    \n",
    "    if classification == numberValue:\n",
    "        accuracy += 1\n",
    "        \n",
    "    confusionMatrix[classification, numberValue] += 1.0\n",
    "accuracy = float(accuracy)/1000\n",
    "print accuracy\n",
    "\n",
    "columnSums = np.sum(confusionMatrix, axis =1)\n",
    "for i in range(10):\n",
    "    confusionMatrix[:, i] = confusionMatrix[:, i]/columnSums[i]\n",
    "print confusionMatrix"
   ]
  },
  {
   "cell_type": "code",
   "execution_count": null,
   "metadata": {
    "collapsed": true
   },
   "outputs": [],
   "source": []
  }
 ],
 "metadata": {
  "kernelspec": {
   "display_name": "Python 2",
   "language": "python",
   "name": "python2"
  },
  "language_info": {
   "codemirror_mode": {
    "name": "ipython",
    "version": 2
   },
   "file_extension": ".py",
   "mimetype": "text/x-python",
   "name": "python",
   "nbconvert_exporter": "python",
   "pygments_lexer": "ipython2",
   "version": "2.7.6"
  }
 },
 "nbformat": 4,
 "nbformat_minor": 0
}
