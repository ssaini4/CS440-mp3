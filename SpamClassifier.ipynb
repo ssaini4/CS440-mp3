{
 "cells": [
  {
   "cell_type": "code",
   "execution_count": 67,
   "metadata": {
    "collapsed": false
   },
   "outputs": [],
   "source": [
    "def parseMultinomialBayes(txtfile, numClasses = 2, linesplit = \"\\r\\n\"):\n",
    "    #parse file\n",
    "    with open(txtfile) as f:\n",
    "        f_read = f.read()\n",
    "    instanceList = f_read.split(linesplit)\n",
    "    del instanceList[-1]\n",
    "\n",
    "    classStats = [{} for i in range(numClasses)]\n",
    "    wordCount = [0 for i in range(numClasses)] #counts the number of words associated with that particular class\n",
    "    numInstances = len(instanceList)\n",
    "    frequencies = [0 for i in range(numClasses)] #the frequency in which a class appears\n",
    "\n",
    "    for instance in instanceList:\n",
    "        features = instance.split(\" \")\n",
    "        classification = int(features[0])\n",
    "        \n",
    "        #for sentimental analysis classification of -1 will just be 0 for simplicity\n",
    "        if (classification == -1):\n",
    "            classification = 0\n",
    "            \n",
    "        frequencies[classification] += 1.0\n",
    "        del features[0]\n",
    "        for feature in features:\n",
    "            pair = feature.split(\":\")\n",
    "            if not pair[0] in classStats[0]:\n",
    "                classStats[0][pair[0]] = 0\n",
    "\n",
    "            if not pair[0] in classStats[1]:\n",
    "                classStats[1][pair[0]] = 0\n",
    "\n",
    "            classStats[classification][pair[0]] += int(pair[1]) #add the number of instances you have seen the word to the total\n",
    "            wordCount[classification] += 1\n",
    "            \n",
    "    for i in range(len(frequencies)):\n",
    "        frequencies[i] = frequencies[i]/numInstances\n",
    "    \n",
    "    return classStats, wordCount, frequencies\n",
    "\n",
    "def parseBernoulliBayes(txtfile, numClasses = 2, linesplit = \"\\r\\n\"):\n",
    "    \n",
    "    #parse file\n",
    "    with open(txtfile) as f:\n",
    "        f_read = f.read()\n",
    "    instanceList = f_read.split(linesplit)\n",
    "    del instanceList[-1]\n",
    "\n",
    "    classStats = [{} for i in range(numClasses)]\n",
    "    docCount = [0 for i in range(numClasses)]\n",
    "    numInstances = len(instanceList)\n",
    "    frequencies = [0 for i in range(numClasses)]\n",
    "\n",
    "    for instance in instanceList:\n",
    "        features = instance.split(\" \")\n",
    "        classification = int(features[0])\n",
    "        \n",
    "        #for sentimental analysis classification of -1 will just be 0 for simplicity\n",
    "        if (classification == -1):\n",
    "            classification = 0\n",
    "            \n",
    "        frequencies[classification] += 1.0\n",
    "        del features[0]\n",
    "        for feature in features:\n",
    "            pair = feature.split(\":\")\n",
    "            if not pair[0] in classStats[0]:\n",
    "                classStats[0][pair[0]] = 0\n",
    "\n",
    "            if not pair[0] in classStats[1]:\n",
    "                classStats[1][pair[0]] = 0\n",
    "\n",
    "            classStats[classification][pair[0]] += 1 #for every document in which the feature appears add one\n",
    "        docCount[classification] = numInstances\n",
    "            \n",
    "    for i in range(len(frequencies)):\n",
    "        frequencies[i] = frequencies[i]/numInstances\n",
    "    \n",
    "    return classStats, docCount, frequencies\n",
    "\n",
    "def findLikelihood(stats, wordCount, laplaceSmoothFactor, numClasses = 2):\n",
    "    likelihood = [{} for i in range(numClasses)]\n",
    "    for i in range(numClasses):\n",
    "        numUnique = 0\n",
    "        #Smooth the parameters using Laplacian smoothing\n",
    "        for word in stats[i]:\n",
    "            if stats[i][word] <= laplaceSmoothFactor:\n",
    "                numUnique += 1\n",
    "                likelihood[i][word] = 0 \n",
    "                \n",
    "            else:\n",
    "                likelihood[i][word] = np.log(float(stats[i][word])/wordCount[i])\n",
    "            \n",
    "        for word in stats[i]:\n",
    "            if likelihood[i][word] == 0:\n",
    "                likelihood[i][word] = np.log(float(stats[i][word]+1)/(wordCount[i]+numUnique))\n",
    "                \n",
    "    return likelihood\n",
    "\n",
    "def pickKeysWithMaxValues(A, n =20):\n",
    "    #picks the keys in a dictionary that correspond to n maximum values\n",
    "    newlist = []\n",
    "    v=list(A.values())\n",
    "    k=list(A.keys())\n",
    "    for i in range(n):\n",
    "        idx = v.index(max(v))\n",
    "        newlist.append(k[idx])\n",
    "        del k[idx]\n",
    "        del v[idx]\n",
    "    return newlist"
   ]
  },
  {
   "cell_type": "code",
   "execution_count": 68,
   "metadata": {
    "collapsed": false
   },
   "outputs": [],
   "source": [
    "class baysianClassifier():\n",
    "    def __init__(self, likelihood, frequencies):\n",
    "        self.likelihood = likelihood\n",
    "        self.frequencies = frequencies\n",
    "    \n",
    "    def test(self, txtfile, numClasses = 2 , linesplit = \"\\r\\n\"):\n",
    "        with open(txtfile) as f:\n",
    "            f_read = f.read()\n",
    "        instanceList = f_read.split(linesplit)\n",
    "        del instanceList[-1]\n",
    "        \n",
    "        accuracy = 0\n",
    "\n",
    "        for instance in instanceList:\n",
    "            score = [0 for i in range(numClasses)]\n",
    "            classification = 0\n",
    "            features = instance.split(\" \")\n",
    "            classification = int(features[0]) \n",
    "            \n",
    "            #for sentimental analysis classification of -1 will just be 0 for simplicity\n",
    "            if (classification == -1):\n",
    "                classification = 0\n",
    "            \n",
    "            del features[0]\n",
    "            for feature in features:\n",
    "                pair = feature.split(\":\")\n",
    "                \n",
    "                if pair[0] in self.likelihood[0]:\n",
    "                    for i in range(numClasses):\n",
    "                        score[i] += self.likelihood[i][pair[0]]\n",
    "            \n",
    "            for i in range(numClasses):\n",
    "                score[i] = score[i]*frequencies[i]\n",
    "            newclass = score.index(max(score))\n",
    "            \n",
    "            if classification == newclass:\n",
    "                accuracy += 1\n",
    "            else:\n",
    "                accuracy += 0\n",
    "        \n",
    "        return float(accuracy)/len(instanceList)\n",
    "    "
   ]
  },
  {
   "cell_type": "code",
   "execution_count": 69,
   "metadata": {
    "collapsed": false
   },
   "outputs": [
    {
     "name": "stdout",
     "output_type": "stream",
     "text": [
      "['language', 'university', 's', 'linguistic', 'de', 'information', 'conference', 'workshop', 'email', 'paper', 'e', 'english', 'one', 'please', 'include', 'edu', 'http', 'research', 'abstract', 'address']\n",
      "['email', 's', 'order', 'report', 'our', 'address', 'mail', 'program', 'send', 'free', 'money', 'list', 'receive', 'name', 'business', 'one', 'd', 'work', 'com', 'nt']\n",
      "train:  0.995714285714\n",
      "test:  0.969230769231\n"
     ]
    }
   ],
   "source": [
    "classStats, wordCount, frequencies = parseMultinomialBayes(\"spam_detection/train_email.txt\")\n",
    "likelihood = findLikelihood(classStats, wordCount, 0)\n",
    "print pickKeysWithMaxValues(likelihood[0], n = 20)\n",
    "print pickKeysWithMaxValues(likelihood[1], n = 20)\n",
    "bayes = baysianClassifier(likelihood, frequencies)\n",
    "print 'train: ', bayes.test(\"spam_detection/train_email.txt\")\n",
    "print 'test: ', bayes.test(\"spam_detection/test_email.txt\")"
   ]
  },
  {
   "cell_type": "code",
   "execution_count": 70,
   "metadata": {
    "collapsed": false
   },
   "outputs": [
    {
     "name": "stdout",
     "output_type": "stream",
     "text": [
      "['movie', 'film', 'like', 'one', '--', 'bad', 'story', 'much', 'time', 'even', 'good', 'characters', 'little', 'would', 'comedy', 'never', 'nothing', 'makes', 'plot', 'make']\n",
      "['film', 'movie', '--', 'one', 'like', 'story', 'good', 'comedy', 'way', 'even', 'time', 'best', 'much', 'performances', 'funny', 'make', 'life', 'us', 'makes', 'characters']\n",
      "train:  0.91675\n",
      "test:  0.753\n"
     ]
    }
   ],
   "source": [
    "classStats, wordCount, frequencies = parseMultinomialBayes(\"sentiment/rt-train.txt\", linesplit = '\\n')\n",
    "likelihood = findLikelihood(classStats, wordCount, 0)\n",
    "print pickKeysWithMaxValues(likelihood[0], n = 20)\n",
    "print pickKeysWithMaxValues(likelihood[1], n = 20)\n",
    "bayes = baysianClassifier(likelihood, frequencies)\n",
    "print 'train: ', bayes.test(\"sentiment/rt-train.txt\", linesplit = '\\n')\n",
    "print 'test: ', bayes.test(\"sentiment/rt-test.txt\", linesplit = '\\n')"
   ]
  },
  {
   "cell_type": "code",
   "execution_count": 71,
   "metadata": {
    "collapsed": false
   },
   "outputs": [
    {
     "name": "stdout",
     "output_type": "stream",
     "text": [
      "['language', 'university', 's', 'information', 'linguistic', 'http', 'email', 'please', 'e', 'follow', 'fax', 'include', 'one', 'english', 'call', 'research', 'www', 'word', 'address', 'interest']\n",
      "['our', 's', 'free', 'please', 'email', 'mail', 'one', 'address', 'list', 'com', 'receive', 'http', 'us', 'send', 'day', 'information', 'remove', 'here', 'over', 'want']\n",
      "train:  1.0\n",
      "test:  0.980769230769\n"
     ]
    }
   ],
   "source": [
    "classStats, wordCount, frequencies = parseBernoulliBayes(\"spam_detection/train_email.txt\")\n",
    "likelihood = findLikelihood(classStats, wordCount, 0)\n",
    "print pickKeysWithMaxValues(likelihood[0], n = 20)\n",
    "print pickKeysWithMaxValues(likelihood[1], n = 20)\n",
    "bayes = baysianClassifier(likelihood, frequencies)\n",
    "print 'train: ', bayes.test(\"spam_detection/train_email.txt\")\n",
    "print 'test: ', bayes.test(\"spam_detection/test_email.txt\")"
   ]
  },
  {
   "cell_type": "code",
   "execution_count": 72,
   "metadata": {
    "collapsed": false
   },
   "outputs": [
    {
     "name": "stdout",
     "output_type": "stream",
     "text": [
      "['movie', 'film', 'like', 'one', 'story', 'much', '--', 'bad', 'time', 'even', 'characters', 'little', 'good', 'would', 'comedy', 'nothing', 'makes', 'plot', 'never', 'make']\n",
      "['film', 'movie', 'one', 'like', '--', 'story', 'comedy', 'way', 'even', 'good', 'best', 'time', 'much', 'performances', 'funny', 'makes', 'life', 'make', 'characters', 'work']\n",
      "train:  0.9545\n",
      "test:  0.752\n"
     ]
    }
   ],
   "source": [
    "classStats, wordCount, frequencies = parseBernoulliBayes(\"sentiment/rt-train.txt\", linesplit = '\\n')\n",
    "likelihood = findLikelihood(classStats, wordCount, 0)\n",
    "print pickKeysWithMaxValues(likelihood[0], n = 20)\n",
    "print pickKeysWithMaxValues(likelihood[1], n = 20)\n",
    "bayes = baysianClassifier(likelihood, frequencies)\n",
    "print 'train: ', bayes.test(\"sentiment/rt-train.txt\", linesplit = '\\n')\n",
    "print 'test: ', bayes.test(\"sentiment/rt-test.txt\", linesplit = '\\n')"
   ]
  },
  {
   "cell_type": "code",
   "execution_count": null,
   "metadata": {
    "collapsed": true
   },
   "outputs": [],
   "source": []
  }
 ],
 "metadata": {
  "kernelspec": {
   "display_name": "Python 2",
   "language": "python",
   "name": "python2"
  },
  "language_info": {
   "codemirror_mode": {
    "name": "ipython",
    "version": 2
   },
   "file_extension": ".py",
   "mimetype": "text/x-python",
   "name": "python",
   "nbconvert_exporter": "python",
   "pygments_lexer": "ipython2",
   "version": "2.7.6"
  }
 },
 "nbformat": 4,
 "nbformat_minor": 0
}
