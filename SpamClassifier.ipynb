{
 "cells": [
  {
   "cell_type": "code",
   "execution_count": 3,
   "metadata": {
    "collapsed": true
   },
   "outputs": [],
   "source": [
    "import pandas as pd\n",
    "import numpy as np"
   ]
  },
  {
   "cell_type": "code",
   "execution_count": 85,
   "metadata": {
    "collapsed": false
   },
   "outputs": [],
   "source": [
    "def parseMultinomialBayes(txtfile, numClasses = 2):\n",
    "    with open(txtfile) as f:\n",
    "        f_read = f.read()\n",
    "    instanceList = f_read.split(\"\\r\\n\")\n",
    "    del instanceList[-1]\n",
    "\n",
    "    classStats = [{} for i in range(numClasses)]\n",
    "    wordCount = [0 for i in range(numClasses)]\n",
    "    numInstances = len(instanceList)\n",
    "    frequencies = [0 for i in range(numClasses)]\n",
    "\n",
    "    for instance in instanceList:\n",
    "        features = instance.split(\" \")\n",
    "        classification = int(features[0])\n",
    "        frequencies[classification] += 1.0\n",
    "        del features[0]\n",
    "        for feature in features:\n",
    "            pair = feature.split(\":\")\n",
    "            if not pair[0] in classStats[0]:\n",
    "                classStats[0][pair[0]] = 0\n",
    "\n",
    "            if not pair[0] in classStats[1]:\n",
    "                classStats[1][pair[0]] = 0\n",
    "\n",
    "            classStats[classification][pair[0]] += int(pair[1])\n",
    "            wordCount[classification] += 1\n",
    "\n",
    "            instanceDict[pair[0]] = int(pair[1])\n",
    "            \n",
    "    for i in range(len(frequencies)):\n",
    "        frequencies[i] = frequencies[i]/numInstances\n",
    "    \n",
    "    return classStats, wordCount, frequencies\n",
    "\n",
    "def findLikelihood(stats, wordCount, laplaceSmoothFactor, numClasses = 2):\n",
    "    likelihood = [{} for i in range(numClasses)]\n",
    "    for i in range(numClasses):\n",
    "        numUnique = 0\n",
    "        #Smooth the parameters using Laplacian smoothing\n",
    "        for word in stats[i]:\n",
    "            if stats[i][word] <= laplaceSmoothFactor:\n",
    "                numUnique += 1\n",
    "                likelihood[i][word] = 0 \n",
    "                \n",
    "            else:\n",
    "                likelihood[i][word] = np.log(float(stats[i][word])/wordCount[i])\n",
    "            \n",
    "        for word in stats[i]:\n",
    "            if likelihood[i][word] == 0:\n",
    "                likelihood[i][word] = np.log(float(stats[i][word]+1)/(wordCount[i]+numUnique))\n",
    "                \n",
    "    return likelihood\n",
    "\n",
    "classStats, wordCount, frequencies = parseMultinomialBayes(\"spam_detection/train_email.txt\")\n",
    "likelihood = findLikelihood(classStats, wordCount, 0)"
   ]
  },
  {
   "cell_type": "code",
   "execution_count": 84,
   "metadata": {
    "collapsed": false
   },
   "outputs": [
    {
     "name": "stdout",
     "output_type": "stream",
     "text": [
      "0.995714285714\n",
      "0.9692307692310.995714285714\n",
      "0.969230769231\n",
      "\n"
     ]
    }
   ],
   "source": [
    "class baysianSpamClassifier():\n",
    "    def __init__(self, likelihood, frequencies):\n",
    "        self.likelihood = likelihood\n",
    "        self.frequencies = frequencies\n",
    "    \n",
    "    def test(self, txtfile, numClasses = 2):\n",
    "        with open(txtfile) as f:\n",
    "            f_read = f.read()\n",
    "        instanceList = f_read.split(\"\\r\\n\")\n",
    "        del instanceList[-1]\n",
    "        \n",
    "        accuracy = 0\n",
    "\n",
    "        for instance in instanceList:\n",
    "            score = [0 for i in range(numClasses)]\n",
    "            classification = 0\n",
    "            features = instance.split(\" \")\n",
    "            classification = int(features[0]) \n",
    "            del features[0]\n",
    "            for feature in features:\n",
    "                pair = feature.split(\":\")\n",
    "                \n",
    "                if pair[0] in self.likelihood[0]:\n",
    "                    for i in range(numClasses):\n",
    "                        score[i] += self.likelihood[i][pair[0]]\n",
    "            \n",
    "            for i in range(numClasses):\n",
    "                score[i] = score[i]*frequencies[i]\n",
    "            newclass = score.index(max(score))\n",
    "            \n",
    "            if classification == newclass:\n",
    "                accuracy += 1\n",
    "            else:\n",
    "                accuracy += 0\n",
    "        \n",
    "        return float(accuracy)/len(instanceList)\n",
    "    \n",
    "bayes = baysianSpamClassifier(likelihood, proportionClass1)\n",
    "print bayes.test(\"spam_detection/train_email.txt\")\n",
    "print bayes.test(\"spam_detection/test_email.txt\")"
   ]
  },
  {
   "cell_type": "code",
   "execution_count": null,
   "metadata": {
    "collapsed": true
   },
   "outputs": [],
   "source": []
  }
 ],
 "metadata": {
  "kernelspec": {
   "display_name": "Python 2",
   "language": "python",
   "name": "python2"
  },
  "language_info": {
   "codemirror_mode": {
    "name": "ipython",
    "version": 2
   },
   "file_extension": ".py",
   "mimetype": "text/x-python",
   "name": "python",
   "nbconvert_exporter": "python",
   "pygments_lexer": "ipython2",
   "version": "2.7.6"
  }
 },
 "nbformat": 4,
 "nbformat_minor": 0
}
